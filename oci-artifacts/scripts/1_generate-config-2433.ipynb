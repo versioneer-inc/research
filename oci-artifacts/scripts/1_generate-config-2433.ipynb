{
 "cells": [
  {
   "cell_type": "markdown",
   "id": "cc90bce5",
   "metadata": {},
   "source": [
    "# Generate Config (2433 patches)"
   ]
  },
  {
   "cell_type": "code",
   "execution_count": 1,
   "id": "0446e352-4dd4-4387-9207-b638aa26c5f9",
   "metadata": {},
   "outputs": [],
   "source": [
    "mode = \"sample\" # \"pastis\""
   ]
  },
  {
   "cell_type": "code",
   "execution_count": 2,
   "id": "ef20f5b3-120b-460d-8370-fb81415733a3",
   "metadata": {},
   "outputs": [],
   "source": [
    "import json\n",
    "from datetime import datetime\n",
    "from pathlib import Path\n",
    "import hashlib"
   ]
  },
  {
   "cell_type": "code",
   "execution_count": 3,
   "id": "d7aa663a-498d-4298-9d58-db4e78f8abbe",
   "metadata": {},
   "outputs": [],
   "source": [
    "with open(f\"../data/metadata_{mode}.geojson\", \"r\") as f:\n",
    "    geojson = json.load(f)\n",
    "\n",
    "def compute_tar_digest(filepath, chunk_size=8192):\n",
    "    h = hashlib.sha256()\n",
    "    with open(filepath, 'rb') as f:\n",
    "        while chunk := f.read(chunk_size):\n",
    "            h.update(chunk)\n",
    "    return f\"sha256:{h.hexdigest()}\"\n",
    "\n",
    "def extract_temporal_coverage(props):\n",
    "    all_dates = []\n",
    "    for key in [\"dates-S1A\", \"dates-S1D\", \"dates-S2\"]:\n",
    "        dates = props.get(key, {}).values()\n",
    "        all_dates.extend(dates)\n",
    "    all_dates = sorted(set(int(d) for d in all_dates))\n",
    "    start = datetime.strptime(str(all_dates[0]), \"%Y%m%d\").strftime(\"%Y-%m-%d\")\n",
    "    end = datetime.strptime(str(all_dates[-1]), \"%Y%m%d\").strftime(\"%Y-%m-%d\")\n",
    "    return {\"start\": start, \"end\": end}"
   ]
  },
  {
   "cell_type": "code",
   "execution_count": 4,
   "id": "713457ea-b6a6-4c65-a17f-331c2cb8ec98",
   "metadata": {},
   "outputs": [
    {
     "name": "stdout",
     "output_type": "stream",
     "text": [
      "Config written at /home/stefan/papers/oci-eo-data-packages/data/sample/config-2433.json)\n"
     ]
    }
   ],
   "source": [
    "def compute_tar_digest(path):\n",
    "    hash_fn = hashlib.sha256()\n",
    "    with open(path, \"rb\") as f:\n",
    "        while chunk := f.read(8192):\n",
    "            hash_fn.update(chunk)\n",
    "    return f\"sha256:{hash_fn.hexdigest()}\"\n",
    "\n",
    "tar_dir = Path(\"../data/pastis\")\n",
    "layers = []\n",
    "\n",
    "for tile_name in sorted(tile_metadata.keys()):\n",
    "    tar_path = tar_dir / f\"{tile_name}.tar\"\n",
    "    if not tar_path.exists():\n",
    "        print(f\"⚠️  Skipping {tile_name}: tar file not found at {tar_path}\")\n",
    "        continue\n",
    "\n",
    "    print(f\"\\nProcessing {tar_path.name}...\")\n",
    "    digest = compute_tar_digest(tar_path)\n",
    "    meta = tile_metadata[tile_name]\n",
    "\n",
    "    layer = {\n",
    "        \"tile\": tile_name,\n",
    "        \"bounding_box\": meta.get(\"bounding_box\"),\n",
    "        \"temporal_coverage\": meta.get(\"dates\"),\n",
    "        \"layer_digest\": digest,\n",
    "        \"layer_mediaType\": \"application/vnd.oci.image.layer.v1.tar\"\n",
    "    }\n",
    "    layers.append(layer)\n",
    "\n",
    "config = {\n",
    "    \"schemaVersion\": 2,\n",
    "    \"mediaType\": \"application/vnd.oci.image.config.v1+json\",\n",
    "    \"artifactType\": \"application/vnd.whatever.v1+tar\",\n",
    "    \"dataset\": \"PASTIS-HD\",\n",
    "    \"created_by\": \"IGN\",\n",
    "    \"license\": \"etalab-2.0\",\n",
    "    \"tiles\": layers\n",
    "}\n",
    "\n",
    "out_path = tar_dir / \"config-2433.json\"\n",
    "with open(out_path, \"w\") as f:\n",
    "    json.dump(config, f, indent=2)"
   ]
  }
 ],
 "metadata": {
  "kernelspec": {
   "display_name": "default *",
   "language": "python",
   "name": "conda-env-default-py"
  },
  "language_info": {
   "codemirror_mode": {
    "name": "ipython",
    "version": 3
   },
   "file_extension": ".py",
   "mimetype": "text/x-python",
   "name": "python",
   "nbconvert_exporter": "python",
   "pygments_lexer": "ipython3",
   "version": "3.12.10"
  }
 },
 "nbformat": 4,
 "nbformat_minor": 5
}
