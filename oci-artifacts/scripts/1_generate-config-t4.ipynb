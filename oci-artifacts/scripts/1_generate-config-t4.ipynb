{
 "cells": [
  {
   "cell_type": "markdown",
   "id": "6e827c8b",
   "metadata": {},
   "source": [
    "# Generate Config (4 tiles)"
   ]
  },
  {
   "cell_type": "code",
   "execution_count": 1,
   "id": "ef20f5b3-120b-460d-8370-fb81415733a3",
   "metadata": {},
   "outputs": [],
   "source": [
    "import json\n",
    "from pathlib import Path\n",
    "from shapely.geometry import shape\n",
    "from shapely.ops import unary_union\n",
    "import hashlib"
   ]
  },
  {
   "cell_type": "code",
   "execution_count": 2,
   "id": "d7aa663a-498d-4298-9d58-db4e78f8abbe",
   "metadata": {},
   "outputs": [],
   "source": [
    "with open(f\"../data/metadata_pastis.geojson\", \"r\") as f:\n",
    "    geojson = json.load(f)"
   ]
  },
  {
   "cell_type": "code",
   "execution_count": 3,
   "id": "713457ea-b6a6-4c65-a17f-331c2cb8ec98",
   "metadata": {},
   "outputs": [
    {
     "name": "stdout",
     "output_type": "stream",
     "text": [
      "\n",
      "Tile: t30uxv\n",
      "  Bounding Box: {'minx': 363699.72588260216, 'miny': 6842288.5427378975, 'maxx': 471523.17614071444, 'maxy': 6958087.14156515}\n",
      "  S1A coverage: {'start': 20181004, 'end': 20191204, 'count': 65}\n",
      "  S1D coverage: {'start': 20181002, 'end': 20191202, 'count': 70}\n",
      "  S2 coverage: {'start': 20180924, 'end': 20191019, 'count': 43}\n",
      "\n",
      "Tile: t31tfj\n",
      "  Bounding Box: {'minx': 802518.4751780948, 'miny': 6244474.937699021, 'maxx': 908891.7850479226, 'maxy': 6349417.542317636}\n",
      "  S1A coverage: {'start': 20181001, 'end': 20191201, 'count': 71}\n",
      "  S1D coverage: {'start': 20181006, 'end': 20191130, 'count': 70}\n",
      "  S2 coverage: {'start': 20180917, 'end': 20191027, 'count': 61}\n",
      "\n",
      "Tile: t31tfm\n",
      "  Bounding Box: {'minx': 801218.5987733917, 'miny': 6541675.540056112, 'maxx': 908655.9347564826, 'maxy': 6649123.634602138}\n",
      "  S1A coverage: {'start': 20181001, 'end': 20191201, 'count': 71}\n",
      "  S1D coverage: {'start': 20181005, 'end': 20191129, 'count': 69}\n",
      "  S2 coverage: {'start': 20180920, 'end': 20191025, 'count': 46}\n",
      "\n",
      "Tile: t32ulu\n",
      "  Bounding Box: {'minx': 941951.9043822229, 'miny': 6743041.037451558, 'maxx': 1051200.956177081, 'maxy': 6859518.94950735}\n",
      "  S1A coverage: {'start': 20181002, 'end': 20191202, 'count': 71}\n",
      "  S1D coverage: {'start': 20181006, 'end': 20191130, 'count': 70}\n",
      "  S2 coverage: {'start': 20180917, 'end': 20191012, 'count': 38}\n"
     ]
    }
   ],
   "source": [
    "tile_metadata = {}\n",
    "\n",
    "for feature in geojson[\"features\"]:\n",
    "    props = feature[\"properties\"]\n",
    "    tile = props[\"TILE\"]\n",
    "    geom = shape(feature[\"geometry\"])\n",
    "\n",
    "    if tile not in tile_metadata:\n",
    "        tile_metadata[tile] = {\n",
    "            \"geometries\": [],\n",
    "            \"dates\": {\n",
    "                \"S1A\": set(),\n",
    "                \"S1D\": set(),\n",
    "                \"S2\": set()\n",
    "            }\n",
    "        }\n",
    "\n",
    "    tile_metadata[tile][\"geometries\"].append(geom)\n",
    "\n",
    "    for sensor in [\"S1A\", \"S1D\", \"S2\"]:\n",
    "        date_dict = props.get(f\"dates-{sensor}\", {})\n",
    "        tile_metadata[tile][\"dates\"][sensor].update(date_dict.values())\n",
    "\n",
    "for tile, data in tile_metadata.items():\n",
    "    unified_geom = unary_union(data[\"geometries\"])\n",
    "    bbox = unified_geom.bounds  # (minx, miny, maxx, maxy)\n",
    "    tile_metadata[tile][\"bounding_box\"] = {\n",
    "        \"minx\": bbox[0],\n",
    "        \"miny\": bbox[1],\n",
    "        \"maxx\": bbox[2],\n",
    "        \"maxy\": bbox[3]\n",
    "    }\n",
    "\n",
    "    print(f\"\\nTile: {tile}\")\n",
    "    print(f\"  Bounding Box: {tile_metadata[tile]['bounding_box']}\")\n",
    "\n",
    "    for sensor, dates in data[\"dates\"].items():\n",
    "        dates = sorted(map(int, dates))\n",
    "        if dates:\n",
    "            coverage = {\n",
    "                \"start\": dates[0],\n",
    "                \"end\": dates[-1],\n",
    "                \"count\": len(dates)\n",
    "            }\n",
    "        else:\n",
    "            coverage = {\n",
    "                \"start\": None,\n",
    "                \"end\": None,\n",
    "                \"count\": 0\n",
    "            }\n",
    "\n",
    "        tile_metadata[tile][\"dates\"][sensor] = coverage\n",
    "        print(f\"  {sensor} coverage: {coverage}\")"
   ]
  },
  {
   "cell_type": "code",
   "execution_count": 4,
   "id": "6e46c27e-5629-48ec-8131-9dcddf3dec43",
   "metadata": {},
   "outputs": [
    {
     "name": "stdout",
     "output_type": "stream",
     "text": [
      "Processing t30uxv.tar...\n",
      "Processing t31tfj.tar...\n",
      "Processing t31tfm.tar...\n",
      "Processing t32ulu.tar...\n",
      "Config written at /mounts/blobs/pastis/config-t4.json)\n"
     ]
    }
   ],
   "source": [
    "def compute_tar_digest(path):\n",
    "    hash_fn = hashlib.sha256()\n",
    "    with open(path, \"rb\") as f:\n",
    "        while chunk := f.read(8192):\n",
    "            hash_fn.update(chunk)\n",
    "    return f\"sha256:{hash_fn.hexdigest()}\"\n",
    "\n",
    "tar_dir = Path(\"../data/pastis\")\n",
    "layers = []\n",
    "\n",
    "for tile_name in sorted(tile_metadata.keys()):\n",
    "    tar_path = tar_dir / f\"{tile_name}.tar\"\n",
    "    if not tar_path.exists():\n",
    "        print(f\"⚠️  Skipping {tile_name}: tar file not found at {tar_path}\")\n",
    "        continue\n",
    "\n",
    "    print(f\"Processing {tar_path.name}...\")\n",
    "    digest = compute_tar_digest(tar_path)\n",
    "    meta = tile_metadata[tile_name]\n",
    "\n",
    "    layer = {\n",
    "        \"tile\": tile_name,\n",
    "        \"bounding_box\": meta.get(\"bounding_box\"),\n",
    "        \"temporal_coverage\": meta.get(\"dates\"),\n",
    "        \"layer_digest\": digest,\n",
    "        \"layer_mediaType\": \"application/vnd.oci.image.layer.v1.tar\"\n",
    "    }\n",
    "    layers.append(layer)\n",
    "\n",
    "config = {\n",
    "    \"schemaVersion\": 2,\n",
    "    \"mediaType\": \"application/vnd.oci.image.config.v1+json\",\n",
    "    \"artifactType\": \"application/vnd.whatever.v1+tar\",\n",
    "    \"dataset\": \"PASTIS-HD\",\n",
    "    \"created_by\": \"IGN\",\n",
    "    \"license\": \"etalab-2.0\",\n",
    "    \"tiles\": layers\n",
    "}\n",
    "\n",
    "file_path = tar_dir / \"config-t4.json\"\n",
    "with open(file_path, \"w\") as f:\n",
    "    json.dump(config, f, indent=2)\n",
    "\n",
    "print(f\"Config written at {Path(file_path).resolve()})\")"
   ]
  }
 ],
 "metadata": {
  "kernelspec": {
   "display_name": "global-global-oci",
   "language": "python",
   "name": "conda-env-global-global-oci-py"
  },
  "language_info": {
   "codemirror_mode": {
    "name": "ipython",
    "version": 3
   },
   "file_extension": ".py",
   "mimetype": "text/x-python",
   "name": "python",
   "nbconvert_exporter": "python",
   "pygments_lexer": "ipython3",
   "version": "3.11.12"
  }
 },
 "nbformat": 4,
 "nbformat_minor": 5
}
