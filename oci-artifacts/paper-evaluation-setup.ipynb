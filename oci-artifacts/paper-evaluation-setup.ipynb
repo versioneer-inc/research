{
 "cells": [
  {
   "cell_type": "markdown",
   "id": "a69d53fb-b6de-4e54-8b1f-ee3604b1cb49",
   "metadata": {},
   "source": [
    "# Evaluation Setup\n",
    "\n",
    "The following setup is based on our methodology described in the paper\n",
    "**_“Towards Standardization of the Earth Observation Data Product Supply Chain – Are OCI Artifacts the Key to Ubiquitous and Scalable EO Data Handling?”_**\n",
    "\n",
    "→ Read the [full paper](oci-supply-chain.pdf) (PDF)"
   ]
  },
  {
   "cell_type": "markdown",
   "id": "a588ae9a-b476-4fd4-ba03-d3d4b9ed6b17",
   "metadata": {},
   "source": [
    "## Loading Libraries\n",
    "Make sure you have installed the requirements, e.g. with `pip install pystac rasterio`"
   ]
  },
  {
   "cell_type": "code",
   "execution_count": null,
   "id": "a2569c50-3381-4de0-8ca8-b1a58bf3b780",
   "metadata": {},
   "outputs": [],
   "source": [
    "import time\n",
    "import pystac\n",
    "import rasterio\n",
    "from pathlib import Path"
   ]
  }
 ],
 "metadata": {
  "kernelspec": {
   "display_name": "Python 3",
   "language": "python",
   "name": "python3"
  },
  "language_info": {
   "codemirror_mode": {
    "name": "ipython",
    "version": 3
   },
   "file_extension": ".py",
   "mimetype": "text/x-python",
   "name": "python",
   "nbconvert_exporter": "python",
   "pygments_lexer": "ipython3",
   "version": "3.10.11"
  }
 },
 "nbformat": 4,
 "nbformat_minor": 5
}
