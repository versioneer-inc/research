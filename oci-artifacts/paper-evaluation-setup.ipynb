{
 "cells": [
  {
   "cell_type": "markdown",
   "id": "a69d53fb-b6de-4e54-8b1f-ee3604b1cb49",
   "metadata": {},
   "source": [
    "# Evaluation Setup\n",
    "\n",
    "The following setup is based on our methodology described in the paper\n",
    "_“Towards Standardization of the Earth Observation Data Product Supply Chain – Are OCI Artifacts the Key to Ubiquitous and Scalable EO Data Handling?”_"
   ]
  },
  {
   "cell_type": "markdown",
   "id": "a588ae9a-b476-4fd4-ba03-d3d4b9ed6b17",
   "metadata": {},
   "source": [
    "## Prerequisites\n",
    "\n",
    "Before getting started, ensure the following tools are installed:\n",
    "\n",
    "- [ORAS CLI](https://oras.land/)\n",
    "- `tar`, `tree`, and `jq` (available on most Unix-like systems)\n",
    "- [Docker](https://www.docker.com/) (if you plan to run a local OCI registry)\n",
    "\n",
    "To demonstrate the ubiquity and usability of OCI registries in real-world scenarios, we evaluated the following five registries:\n",
    "\n",
    "- Docker Hub: `docker.io/versioneer` see https://hub.docker.com/repositories/versioneer?search=pastis\n",
    "- Quay.io: `quay.io/versioneer-inc` see https://quay.io/repository/versioneer-inc/pastis-2433?tab=tags resp. https://quay.io/repository/versioneer-inc/pastis-t4?tab=tags\n",
    "- Harbor (hosted by OVHCloud): `qr2wz4td.c1.de1.container-registry.ovh.net/versioneer` private\n",
    "- Amazon Elastic Container Registry (ECR): `767397985165.dkr.ecr.eu-central-1.amazonaws.com/versioneer`  private\n",
    "- Docker Registry (local): `localhost:5000` based on the open-source [distribution](https://github.com/distribution/distribution) reference implementation to run locally\n",
    "\n",
    "The repositories on Docker Hub and Quay.io are publicly accessible in read-only mode, so you can directly inspect the used evaluation artifacts. Harbor and AWS ECR are private instances, so you will need your own cloud subscription and authentication credentials if you want to use them. The local Docker registry is the most straightforward option to follow up. You can start it with:\n",
    "\n",
    "```bash\n",
    "docker run -d -p 5000:5000 --name registry registry:2\n",
    "```\n",
    "\n",
    "> Note: You can also run other OCI-compliant registries such as [Harbor](https://github.com/goharbor/harbor) or [Quay](https://github.com/quay/quay) locally.\n",
    "\n",
    "For Python dependencies a requirements file is provided for convenience:\n",
    "\n",
    "```bash\n",
    "pip install -r requirements.txt\n",
    "```"
   ]
  },
  {
   "cell_type": "markdown",
   "id": "ffb0403b",
   "metadata": {},
   "source": [
    "## Reference Dataset and Partitioning Strategy\n",
    "\n",
    "We used the _Panoptic Agricultural Satellite Time Series_ ([PASTIS](https://github.com/VSainteuf/pastis-benchmark)) dataset as our reference, as it integrates diverse Earth Observation (EO) modalities, including:\n",
    "\n",
    "- Optical time-series data from Sentinel-2  \n",
    "- Radar time-series data from Sentinel-1  \n",
    "- Very High Resolution (VHR) imagery from SPOT satellites  \n",
    "- Curated annotations, including label masks and semantic classifications  \n",
    "\n",
    "Rather than preserving the original organization—which grouped data by source and required consumers to search and filter for relevant information—we restructured the dataset into an analysis-ready format using two distinct partitioning schemes:\n",
    "\n",
    "- PASTIS-2433: The entire PASTIS dataset is split into 2,433 individual per-patch subsets. Each patch is packaged into a separate TAR archive and added as a layer within a single OCI artifact. The final artifact includes 2,433 layers, each approximately 30–35 MB as well as a [config](data/config-2433.json) object that describes the metadata for each patch. This layout enables fine-grained access and maximizes deduplication across patches.\n",
    "\n",
    "- PASTIS-t4: The dataset is instead divided into four larger spatial tiles. Each tile represents a distinct region and is packaged into a TAR archive, then added as a layer in the OCI artifact. This results in 4 layers, each approximately 15–20 GB and a [config](data/config-t4.json) object that captures tile-level metadata. This approach enables high-throughput data access optimized for regional analysis.\n",
    "\n",
    "For our own convenience, the TAR archives (both the 2,433 patches and the 4 tiles) were uploaded to an object storage bucket on OVHCloud. These were used as the source to package the evaluation OCI artifacts before pushing them to various registries.\n",
    "\n",
    "The used partitioning scripts are available here:\n",
    "\n",
    "- [scripts/0_initial-partioning-2433.ipynb](scripts/0_initial-partioning-2433.ipynb)\n",
    "- [scripts/0_initial-partitioning-t4.ipynb](scripts/0_initial-partitioning-t4.ipynb)\n",
    "\n",
    "The scripts used to generate the config files—required for building the OCI artifacts and pushing them to a registry—are available here:\n",
    "\n",
    "- [scripts/1_generate-config-2433.ipynb](scripts/1_generate-config-2433.ipynb)\n",
    "- [scripts/1_generate-config-t4.ipynb](scripts/1_generate-config-t4.ipynb)\n",
    "\n",
    "The original spatial metadata for the PASTIS dataset is provided as a [GeoJSON file](data/metadata_pastis.geojson) in the `data/` folder.\n",
    "\n",
    "> Note: We’ve created a small sample of PASTIS-2433 with just 3 layers and a matching [config file](sample/config.json). It’s located in the `sample/` folder to help you quickly explore the data and get started."
   ]
  },
  {
   "cell_type": "markdown",
   "id": "50d2800f",
   "metadata": {},
   "source": [
    "## Packaging and Publishing EO Patches\n",
    "\n",
    "The following code demonstrates how to package the small sample of the PASTIS-2433 dataset and push it to a local OCI registry at `localhost:5000/pastis-2433:sample`.\n",
    "\n",
    "For comparison, equivalent Bash scripts are available in the `scripts/` directory, which use the ORAS CLI to perform the same steps. For example, see [2a_push_dockerhub-2433.sh](/scripts/2a_push_docker)"
   ]
  },
  {
   "cell_type": "code",
   "execution_count": 6,
   "id": "a2569c50-3381-4de0-8ca8-b1a58bf3b780",
   "metadata": {},
   "outputs": [
    {
     "name": "stdout",
     "output_type": "stream",
     "text": [
      "Preparing to push to localhost:5000/pastis-2433:sample\n",
      "Found 3 layer(s):\n",
      "  - sample/10000.tar\n",
      "  - sample/10001.tar\n",
      "  - sample/10002.tar\n",
      "Preparing sample/10000.tar\n",
      "Preparing sample/10001.tar\n",
      "Preparing sample/10002.tar\n",
      "Uploading 6f57fa9c759f sample/10002.tar\n",
      "Uploading b9af2a69dee3 sample/10001.tar\n",
      "Uploading 7cff937ff47c sample/10000.tar\n",
      "Uploading e4c1009e385d application/vnd.oci.image.config.v1+json\n",
      "Uploaded  e4c1009e385d application/vnd.oci.image.config.v1+json\n",
      "Uploaded  6f57fa9c759f sample/10002.tar\n",
      "Uploaded  7cff937ff47c sample/10000.tar\n",
      "Uploaded  b9af2a69dee3 sample/10001.tar\n",
      "Uploading 72bf0b123756 application/vnd.oci.image.manifest.v1+json\n",
      "Uploaded  72bf0b123756 application/vnd.oci.image.manifest.v1+json\n",
      "Pushed [registry] localhost:5000/pastis-2433:sample\n",
      "ArtifactType: application/vnd.whatever.v1+tar\n",
      "Digest: sha256:72bf0b123756669a8b9b34dfd4beb898dc9ab1eb7171bcb804de9d38e1371c9c\n"
     ]
    },
    {
     "data": {
      "text/plain": [
       "CompletedProcess(args=['oras', 'push', '--verbose', 'localhost:5000/pastis-2433:sample', '--artifact-type', 'application/vnd.whatever.v1+tar', '--config', 'sample/config.json:application/vnd.oci.image.config.v1+json', 'sample/10000.tar:application/vnd.oci.image.layer.v1.tar', 'sample/10001.tar:application/vnd.oci.image.layer.v1.tar', 'sample/10002.tar:application/vnd.oci.image.layer.v1.tar'], returncode=0)"
      ]
     },
     "execution_count": 6,
     "metadata": {},
     "output_type": "execute_result"
    }
   ],
   "source": [
    "import os\n",
    "import re\n",
    "import subprocess\n",
    "\n",
    "data_dir = \"sample\"\n",
    "registry = \"localhost:5000\"\n",
    "repo = f\"{registry}/pastis-2433:sample\"\n",
    "\n",
    "print(f\"Preparing to push to {repo}\")\n",
    "\n",
    "layers = []\n",
    "tar_pattern = re.compile(r\"^\\d{5}\\.tar$\")\n",
    "for filename in os.listdir(data_dir):\n",
    "    if tar_pattern.match(filename):\n",
    "        full_path = os.path.join(data_dir, filename)\n",
    "        layers.append(f\"{full_path}:application/vnd.oci.image.layer.v1.tar\")\n",
    "\n",
    "if not layers:\n",
    "    print(\"No valid layers found\")\n",
    "    exit(1)\n",
    "\n",
    "print(f\"Found {len(layers)} layer(s):\")\n",
    "for layer in layers:\n",
    "    print(\"  -\", layer.split(\":\")[0])\n",
    "\n",
    "config_path = os.path.join(data_dir, \"config.json\")\n",
    "cmd = [\n",
    "    \"oras\", \"push\", \"--verbose\", repo,\n",
    "    \"--artifact-type\", \"application/vnd.whatever.v1+tar\",\n",
    "    \"--config\", f\"{config_path}:application/vnd.oci.image.config.v1+json\"\n",
    "] + layers\n",
    "\n",
    "subprocess.run(cmd, check=True)\n"
   ]
  }
 ],
 "metadata": {
  "kernelspec": {
   "display_name": ".venv",
   "language": "python",
   "name": "python3"
  },
  "language_info": {
   "codemirror_mode": {
    "name": "ipython",
    "version": 3
   },
   "file_extension": ".py",
   "mimetype": "text/x-python",
   "name": "python",
   "nbconvert_exporter": "python",
   "pygments_lexer": "ipython3",
   "version": "3.10.12"
  }
 },
 "nbformat": 4,
 "nbformat_minor": 5
}
