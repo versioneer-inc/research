{
 "cells": [
  {
   "cell_type": "markdown",
   "id": "a69d53fb-b6de-4e54-8b1f-ee3604b1cb49",
   "metadata": {},
   "source": [
    "# Evaluation Setup\n",
    "\n",
    "The following setup is based on our methodology described in the paper\n",
    "**_“Towards Standardization of the Earth Observation Data Product Supply Chain – Are OCI Artifacts the Key to Ubiquitous and Scalable EO Data Handling?”_**"
   ]
  },
  {
   "cell_type": "markdown",
   "id": "a588ae9a-b476-4fd4-ba03-d3d4b9ed6b17",
   "metadata": {},
   "source": [
    "## Prerequisites\n",
    "\n",
    "Before getting started, ensure the following tools are installed:\n",
    "\n",
    "- [ORAS CLI](https://oras.land/)\n",
    "- `tar`, `tree`, and `jq` (available on most Unix-like systems)\n",
    "- [Docker](https://www.docker.com/) (if you plan to run a local OCI registry)\n",
    "\n",
    "To demonstrate the ubiquity and usability of OCI registries in real-world scenarios, we evaluated the following five registries:\n",
    "\n",
    "- **Docker Hub**: `docker.io/versioneer` -> see e.g https://hub.docker.com/repositories/versioneer?search=pastis\n",
    "- **Quay.io**: `quay.io/versioneer-inc` -> see e.g https://quay.io/repository/versioneer-inc/pastis-2433\n",
    "- **Harbor** (hosted by OVHCloud): `qr2wz4td.c1.de1.container-registry.ovh.net/versioneer` -> private\n",
    "- **Amazon Elastic Container Registry (ECR)**: `767397985165.dkr.ecr.eu-central-1.amazonaws.com/versioneer` -> private\n",
    "- **Docker Registry (local)**: `localhost:5000` (based on the open-source [distribution](https://github.com/distribution/distribution) reference implementation) -> run locally\n",
    "\n",
    "The repositories on **Docker Hub** and **Quay.io** are **publicly accessible in read-only mode**, so you can directly inspect artifacts. **Harbor** and **AWS ECR** are private instances. To use them, you will need your own cloud subscription and authentication credentials. The **local Docker registry** is the most straightforward option for local testing. You can start it with:\n",
    "\n",
    "```bash\n",
    "docker run -d -p 5000:5000 --name registry registry:2\n",
    "```\n",
    "\n",
    "> Note: You can also run other OCI-compliant registries such as [Harbor](https://github.com/goharbor/harbor) or [Quay](https://github.com/quay/quay) locally.\n",
    "\n",
    "For Python dependencies a requirements file is provided for convenience:\n",
    "\n",
    "```bash\n",
    "pip install -r requirements.txt\n",
    "```"
   ]
  },
  {
   "cell_type": "markdown",
   "id": "ffb0403b",
   "metadata": {},
   "source": [
    "## Reference Dataset and Partitioning Strategy\n",
    "\n",
    "We used the **_Panoptic Agricultural Satellite Time Series_** ([PASTIS](https://github.com/VSainteuf/pastis-benchmark)) dataset as our reference, as it integrates diverse Earth Observation (EO) modalities, including:\n",
    "\n",
    "- Optical time-series data from Sentinel-2  \n",
    "- Radar time-series data from Sentinel-1  \n",
    "- Very High Resolution (VHR) imagery from SPOT satellites  \n",
    "- Curated annotations, including label masks and semantic classifications  \n",
    "\n",
    "Rather than preserving the original organization—which grouped data by source and required consumers to search and filter for relevant information—we restructured the dataset into an analysis-ready format using two distinct partitioning schemes:\n",
    "\n",
    "- PASTIS-2433: The entire PASTIS dataset is split into 2,433 individual per-patch subsets. Each patch is packaged into a separate TAR archive and added as a layer within a single OCI artifact. The final artifact includes 2,433 layers, each approximately 30–35 MB as well as a [config](data/config-2433.json) object that describes the metadata for each patch. This layout enables fine-grained access and maximizes deduplication across patches.\n",
    "\n",
    "- PASTIS-t4: The dataset is instead divided into four larger spatial tiles. Each tile represents a distinct region and is packaged into a TAR archive, then added as a layer in the OCI artifact. This results in 4 layers, each approximately 15–20 GB and a [config](data/config-t4.json) object that captures tile-level metadata. This approach enables high-throughput data access optimized for regional analysis.\n",
    "\n",
    "For convenience, the TAR archives (both the 2,433 patches and the 4 tiles) were uploaded to an object storage bucket. These were used as the source to package the evaluation OCI artifacts before pushing them to various registries.\n",
    "\n",
    "The used partitioning scripts are available here:\n",
    "\n",
    "- [scripts/0_initial-partioning-2433.ipynb](scripts/0_initial-partioning-2433.ipynb)\n",
    "- [scripts/0_initial-partitioning-t4.ipynb](scripts/0_initial-partitioning-t4.ipynb)\n",
    "\n",
    "The scripts used to generate the config files—required for building the OCI artifacts and pushing them to a registry—are available here:\n",
    "\n",
    "- [scripts/1_generate-config-2433.ipynb](scripts/1_generate-config-2433.ipynb)\n",
    "- [scripts/1_generate-config-t4.ipynb](scripts/1_generate-config-t4.ipynb)\n",
    "\n",
    "The original spatial metadata for the PASTIS dataset is provided as a [GeoJSON file](data/metadata_pastis.geojson) in the `data/` folder.\n",
    "\n",
    "> **Note:** We’ve created a small sample of PASTIS-2433 with just 3 layers and a matching [config file](sample/config.json). It’s located in the `sample/` folder to help you quickly explore the data and get started."
   ]
  },
  {
   "cell_type": "code",
   "execution_count": 3,
   "id": "a2569c50-3381-4de0-8ca8-b1a58bf3b780",
   "metadata": {},
   "outputs": [],
   "source": [
    "import time\n",
    "import pystac\n",
    "from pathlib import Path"
   ]
  }
 ],
 "metadata": {
  "kernelspec": {
   "display_name": ".venv",
   "language": "python",
   "name": "python3"
  },
  "language_info": {
   "codemirror_mode": {
    "name": "ipython",
    "version": 3
   },
   "file_extension": ".py",
   "mimetype": "text/x-python",
   "name": "python",
   "nbconvert_exporter": "python",
   "pygments_lexer": "ipython3",
   "version": "3.10.12"
  }
 },
 "nbformat": 4,
 "nbformat_minor": 5
}
